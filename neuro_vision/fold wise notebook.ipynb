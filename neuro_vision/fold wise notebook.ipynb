{
 "cells": [
  {
   "cell_type": "code",
   "execution_count": 1,
   "metadata": {
    "collapsed": false
   },
   "outputs": [
    {
     "name": "stdout",
     "output_type": "stream",
     "text": [
      "WARNING: Failed to load fast implementation of SMLR.  May be you forgotten to build it.  We will use much slower pure-Python version. Original exception was [WinError 126] The specified module could not be found\n",
      " * Please note: warnings are printed only once, but underlying problem might occur many times *\n",
      "WARNING: SMLR: C implementation is not available. Using pure Python one\n"
     ]
    },
    {
     "name": "stderr",
     "output_type": "stream",
     "text": [
      "E:\\Anaconda3\\lib\\site-packages\\scipy\\_lib\\decorator.py:205: DeprecationWarning: inspect.getargspec() is deprecated, use inspect.signature() instead\n",
      "  first = inspect.getargspec(caller)[0][0]  # first arg\n",
      "E:\\Anaconda3\\lib\\site-packages\\scipy\\optimize\\nonlin.py:1502: DeprecationWarning: inspect.getargspec() is deprecated, use inspect.signature() instead\n",
      "  args, varargs, varkw, defaults = inspect.getargspec(jac.__init__)\n",
      "E:\\Anaconda3\\lib\\site-packages\\scipy\\stats\\_distn_infrastructure.py:636: DeprecationWarning: inspect.getargspec() is deprecated, use inspect.signature() instead\n",
      "  sign = inspect.getargspec(self._stats)\n",
      "E:\\Anaconda3\\lib\\site-packages\\scipy\\stats\\_distn_infrastructure.py:692: DeprecationWarning: inspect.getargspec() is deprecated, use inspect.signature() instead\n",
      "  shapes_args = inspect.getargspec(meth)\n",
      "E:\\Anaconda3\\lib\\site-packages\\sklearn\\utils\\fixes.py:64: DeprecationWarning: inspect.getargspec() is deprecated, use inspect.signature() instead\n",
      "  if 'order' in inspect.getargspec(np.copy)[0]:\n",
      "E:\\Anaconda3\\lib\\site-packages\\scipy\\_lib\\decorator.py:205: DeprecationWarning: inspect.getargspec() is deprecated, use inspect.signature() instead\n",
      "  first = inspect.getargspec(caller)[0][0]  # first arg\n",
      "E:\\Anaconda3\\lib\\site-packages\\mvpa2\\datasets\\sources\\skl_data.py:32: DeprecationWarning: inspect.getargspec() is deprecated, use inspect.signature() instead\n",
      "  argnames, varargs, varkw, defaults = inspect.getargspec(fx)\n",
      "E:\\Anaconda3\\lib\\site-packages\\pandas\\__init__.py:7: DeprecationWarning: bad escape \\s\n",
      "  from pandas import hashtable, tslib, lib\n",
      "E:\\Anaconda3\\lib\\site-packages\\statsmodels\\base\\wrapper.py:94: DeprecationWarning: inspect.getargspec() is deprecated, use inspect.signature() instead\n",
      "  argspec = inspect.getargspec(func)\n",
      "E:\\Anaconda3\\lib\\site-packages\\numpy\\lib\\utils.py:99: DeprecationWarning: `scipy.linalg.calc_lwork` is deprecated!\n",
      "\n",
      "calc_lwork was an internal module in Scipy and has been removed.\n",
      "\n",
      "Several functions in scipy.linalg.lapack have *_lwork variants\n",
      "that perform the lwork calculation (from Scipy >= 0.15.0), or\n",
      "allow passing in LWORK=-1 argument to perform the computation.\n",
      "\n",
      "\n",
      "  warnings.warn(depdoc, DeprecationWarning)\n"
     ]
    }
   ],
   "source": [
    "import warnings\n",
    "warnings.filterwarnings(\"ignore\")\n",
    "\n",
    "from processing_layer.fold_wise_processor import FoldWiseProcessor\n",
    "import processing_layer.fold_wise_processor\n",
    "\n",
    "from processing_layer.util.fmri_sample_cleaning_transform import get_affected_samples\n",
    "from processing_layer.util.fmri_cleaner import remove_samples\n",
    "import processing_layer.util.target_data_utility as target_data_utility\n",
    "import os\n",
    "import numpy as np\n",
    "import mvpa2\n",
    "import nibabel\n",
    "import pickle\n",
    "import gzip\n",
    "from mvpa2.suite import *\n",
    "from sklearn.tree import DecisionTreeRegressor\n",
    "import matplotlib.pyplot as plt\n",
    "\n",
    "%matplotlib inline"
   ]
  },
  {
   "cell_type": "code",
   "execution_count": null,
   "metadata": {
    "collapsed": true
   },
   "outputs": [],
   "source": []
  },
  {
   "cell_type": "code",
   "execution_count": 2,
   "metadata": {
    "collapsed": false
   },
   "outputs": [
    {
     "name": "stdout",
     "output_type": "stream",
     "text": [
      "WARNING: Detected incorrect (nan) scl_ fields. Resetting to scl_slope=1.0 and scl_inter=0.0\n",
      "1295\n"
     ]
    }
   ],
   "source": [
    "# get the location of the files\n",
    "trajectory_path = \"..\\\\data\\\\story\\\\smoothedStoryTrajectories\\\\smoothTrajRawValenceMean_win500.pkl\"\n",
    "subject_timeline_path = \"..\\\\data\\\\plosone\\\\subject_3.mat\"\n",
    "bold_fname = os.path.join('..', 'data', 'qub', '4Dw.nii')\n",
    "mask_fname = os.path.join('..', 'data', 'qub', 'struct', 'final_mask_w.hdr')\n",
    "ds_removal_transform = get_affected_samples(trajectory_path, subject_timeline_path)\n",
    "ds = remove_samples(bold_fname, mask_fname, ds_removal_transform)\n",
    "print(len(ds))\n",
    "#get the trajectory\n",
    "with open(trajectory_path, 'rb') as f:\n",
    "    u = pickle._Unpickler(f)\n",
    "    u.encoding = 'latin1'\n",
    "    original_trajectory = u.load()\n",
    "#downsample the trajectory to fit match the number of fMRI sample\n",
    "resampled_trajectory = resample(original_trajectory, len(ds.samples))"
   ]
  },
  {
   "cell_type": "code",
   "execution_count": null,
   "metadata": {
    "collapsed": true
   },
   "outputs": [],
   "source": [
    "resampled_trajectory = target_data_utility.convert_targets_to_simple_values(resampled_trajectory)"
   ]
  },
  {
   "cell_type": "code",
   "execution_count": 3,
   "metadata": {
    "collapsed": true
   },
   "outputs": [],
   "source": [
    "ds.sa['targets'] = resampled_trajectory"
   ]
  },
  {
   "cell_type": "code",
   "execution_count": null,
   "metadata": {
    "collapsed": false
   },
   "outputs": [],
   "source": [
    "old_ds = ds\n",
    "#ds = old_ds[:400]"
   ]
  },
  {
   "cell_type": "code",
   "execution_count": null,
   "metadata": {
    "collapsed": false
   },
   "outputs": [],
   "source": [
    "fold_wise_processor = FoldWiseProcessor(ds, resampled_trajectory, kNN(k=3, dfx=one_minus_correlation, voting='majority'), 10, False)\n",
    "#SMLR\n",
    "#fold_wise_processor = FoldWiseProcessor(ds, resampled_trajectory, SMLR(), 2, False)"
   ]
  },
  {
   "cell_type": "code",
   "execution_count": null,
   "metadata": {
    "collapsed": false,
    "scrolled": false
   },
   "outputs": [],
   "source": [
    "results = fold_wise_processor.process()"
   ]
  },
  {
   "cell_type": "code",
   "execution_count": null,
   "metadata": {
    "collapsed": true
   },
   "outputs": [],
   "source": []
  },
  {
   "cell_type": "code",
   "execution_count": null,
   "metadata": {
    "collapsed": true
   },
   "outputs": [],
   "source": []
  },
  {
   "cell_type": "code",
   "execution_count": null,
   "metadata": {
    "collapsed": false
   },
   "outputs": [],
   "source": [
    "for value in ds.sa.targets:\n",
    "    print(value)"
   ]
  },
  {
   "cell_type": "code",
   "execution_count": null,
   "metadata": {
    "collapsed": false
   },
   "outputs": [],
   "source": [
    "print(fold_wise_processor.results)"
   ]
  },
  {
   "cell_type": "code",
   "execution_count": null,
   "metadata": {
    "collapsed": false
   },
   "outputs": [],
   "source": [
    "plt.plot(ds.sa.targets)\n",
    "plt.ylabel('ds Response')\n",
    "plt.show()"
   ]
  },
  {
   "cell_type": "code",
   "execution_count": null,
   "metadata": {
    "collapsed": false
   },
   "outputs": [],
   "source": [
    "plt.plot(fold_wise_processor.results)\n",
    "plt.ylabel('response Response')\n",
    "plt.show()"
   ]
  },
  {
   "cell_type": "code",
   "execution_count": null,
   "metadata": {
    "collapsed": false
   },
   "outputs": [],
   "source": [
    "np.corrcoef(fold_wise_processor.results, ds.sa.targets)[0, 1]"
   ]
  },
  {
   "cell_type": "code",
   "execution_count": null,
   "metadata": {
    "collapsed": false
   },
   "outputs": [],
   "source": [
    "np.mean(fold_wise_processor.results == ds.sa.targets)"
   ]
  },
  {
   "cell_type": "code",
   "execution_count": null,
   "metadata": {
    "collapsed": true
   },
   "outputs": [],
   "source": []
  },
  {
   "cell_type": "code",
   "execution_count": null,
   "metadata": {
    "collapsed": false
   },
   "outputs": [],
   "source": [
    "#KNN Testing\n",
    "k_values = [8, 9, 10]\n",
    "fold_values = [15]\n",
    "\n",
    "for fold_value in fold_values:\n",
    "    for k_value in k_values:\n",
    "        temp = FoldWiseProcessor(ds, resampled_trajectory, kNN(k=k_value, dfx=one_minus_correlation, voting='majority'), fold_value, False, verbose=False)\n",
    "        results = temp.process()\n",
    "        \n",
    "        result_value = np.mean(temp.results == ds.sa.targets)\n",
    "        \n",
    "        print(\"Fold: \" + str(fold_value) + \" K-Value: \" + str(k_value) + \" Result: \" + str(result_value))\n"
   ]
  },
  {
   "cell_type": "code",
   "execution_count": null,
   "metadata": {
    "collapsed": false
   },
   "outputs": [],
   "source": []
  },
  {
   "cell_type": "code",
   "execution_count": 4,
   "metadata": {
    "collapsed": false,
    "scrolled": true
   },
   "outputs": [
    {
     "name": "stdout",
     "output_type": "stream",
     "text": [
      "Starting all\n",
      "starting to process\n",
      "Fold: 20 Depth-Value: 2 Skip True Result: -0.00115807619884\n",
      "starting to process\n",
      "Fold: 20 Depth-Value: 3 Skip True Result: -0.0623990564346\n",
      "starting to process\n",
      "Fold: 20 Depth-Value: 5 Skip True Result: -0.0416922437779\n",
      "starting to process\n",
      "Fold: 20 Depth-Value: 7 Skip True Result: -0.0939308644178\n",
      "starting to process\n",
      "Fold: 20 Depth-Value: 10 Skip True Result: -0.119146628049\n",
      "starting to process\n",
      "Fold: 20 Depth-Value: 15 Skip True Result: -0.114249973007\n",
      "starting to process\n",
      "Fold: 20 Depth-Value: 20 Skip True Result: -0.107426820998\n",
      "starting to process\n",
      "Fold: 20 Depth-Value: 0 Skip True Result: -0.120280635917\n",
      "\n",
      "starting to process\n",
      "Fold: 15 Depth-Value: 2 Skip True Result: -0.0523909877483\n",
      "starting to process\n"
     ]
    },
    {
     "ename": "KeyboardInterrupt",
     "evalue": "",
     "output_type": "error",
     "traceback": [
      "\u001b[1;31m---------------------------------------------------------------------------\u001b[0m",
      "\u001b[1;31mKeyboardInterrupt\u001b[0m                         Traceback (most recent call last)",
      "\u001b[1;32m<ipython-input-4-77fddcd64fd9>\u001b[0m in \u001b[0;36m<module>\u001b[1;34m()\u001b[0m\n\u001b[0;32m     14\u001b[0m             \u001b[1;32melse\u001b[0m\u001b[1;33m:\u001b[0m\u001b[1;33m\u001b[0m\u001b[0m\n\u001b[0;32m     15\u001b[0m                 \u001b[0mtemp\u001b[0m \u001b[1;33m=\u001b[0m \u001b[0mFoldWiseProcessor\u001b[0m\u001b[1;33m(\u001b[0m\u001b[0mds\u001b[0m\u001b[1;33m,\u001b[0m \u001b[0mresampled_trajectory\u001b[0m\u001b[1;33m,\u001b[0m \u001b[0mSKLLearnerAdapter\u001b[0m\u001b[1;33m(\u001b[0m\u001b[0mDecisionTreeRegressor\u001b[0m\u001b[1;33m(\u001b[0m\u001b[1;33m)\u001b[0m\u001b[1;33m)\u001b[0m\u001b[1;33m,\u001b[0m \u001b[0mfold_value\u001b[0m\u001b[1;33m,\u001b[0m \u001b[0mskip_value\u001b[0m\u001b[1;33m,\u001b[0m \u001b[0mverbose\u001b[0m\u001b[1;33m=\u001b[0m\u001b[1;32mFalse\u001b[0m\u001b[1;33m)\u001b[0m\u001b[1;33m\u001b[0m\u001b[0m\n\u001b[1;32m---> 16\u001b[1;33m             \u001b[0mresults\u001b[0m \u001b[1;33m=\u001b[0m \u001b[0mtemp\u001b[0m\u001b[1;33m.\u001b[0m\u001b[0mprocess\u001b[0m\u001b[1;33m(\u001b[0m\u001b[1;33m)\u001b[0m\u001b[1;33m\u001b[0m\u001b[0m\n\u001b[0m\u001b[0;32m     17\u001b[0m \u001b[1;33m\u001b[0m\u001b[0m\n\u001b[0;32m     18\u001b[0m             \u001b[0mfileName\u001b[0m \u001b[1;33m=\u001b[0m \u001b[0mstr\u001b[0m\u001b[1;33m(\u001b[0m\u001b[0mskip_value\u001b[0m\u001b[1;33m)\u001b[0m\u001b[1;33m+\u001b[0m\u001b[1;34m\"_\"\u001b[0m\u001b[1;33m+\u001b[0m\u001b[0mstr\u001b[0m\u001b[1;33m(\u001b[0m\u001b[0mfold_value\u001b[0m\u001b[1;33m)\u001b[0m\u001b[1;33m+\u001b[0m\u001b[1;34m\"_\"\u001b[0m\u001b[1;33m+\u001b[0m\u001b[0mstr\u001b[0m\u001b[1;33m(\u001b[0m\u001b[0mdepth_value\u001b[0m\u001b[1;33m)\u001b[0m\u001b[1;33m\u001b[0m\u001b[0m\n",
      "\u001b[1;32mE:\\Users\\Niall\\Documents\\Computer Science\\FinalYearProject\\neuro_vision\\processing_layer\\fold_wise_processor.py\u001b[0m in \u001b[0;36mprocess\u001b[1;34m(self)\u001b[0m\n\u001b[0;32m     59\u001b[0m \u001b[1;33m\u001b[0m\u001b[0m\n\u001b[0;32m     60\u001b[0m             \u001b[1;31m#train the analyser/model\u001b[0m\u001b[1;33m\u001b[0m\u001b[1;33m\u001b[0m\u001b[0m\n\u001b[1;32m---> 61\u001b[1;33m             \u001b[0mself\u001b[0m\u001b[1;33m.\u001b[0m\u001b[0manalyser\u001b[0m\u001b[1;33m.\u001b[0m\u001b[0mtrain\u001b[0m\u001b[1;33m(\u001b[0m\u001b[0mtraining_set\u001b[0m\u001b[1;33m)\u001b[0m\u001b[1;33m\u001b[0m\u001b[0m\n\u001b[0m\u001b[0;32m     62\u001b[0m \u001b[1;33m\u001b[0m\u001b[0m\n\u001b[0;32m     63\u001b[0m             \u001b[1;31m#get the prediction based on the chunks\u001b[0m\u001b[1;33m\u001b[0m\u001b[1;33m\u001b[0m\u001b[0m\n",
      "\u001b[1;32mE:\\Anaconda3\\lib\\site-packages\\mvpa2\\base\\learner.py\u001b[0m in \u001b[0;36mtrain\u001b[1;34m(self, ds)\u001b[0m\n\u001b[0;32m    130\u001b[0m             \u001b[1;31m# things might have happened during pretraining\u001b[0m\u001b[1;33m\u001b[0m\u001b[1;33m\u001b[0m\u001b[0m\n\u001b[0;32m    131\u001b[0m             \u001b[1;32mif\u001b[0m \u001b[0mds\u001b[0m\u001b[1;33m.\u001b[0m\u001b[0mnfeatures\u001b[0m \u001b[1;33m>\u001b[0m \u001b[1;36m0\u001b[0m\u001b[1;33m:\u001b[0m\u001b[1;33m\u001b[0m\u001b[0m\n\u001b[1;32m--> 132\u001b[1;33m                 \u001b[0mresult\u001b[0m \u001b[1;33m=\u001b[0m \u001b[0mself\u001b[0m\u001b[1;33m.\u001b[0m\u001b[0m_train\u001b[0m\u001b[1;33m(\u001b[0m\u001b[0mds\u001b[0m\u001b[1;33m)\u001b[0m\u001b[1;33m\u001b[0m\u001b[0m\n\u001b[0m\u001b[0;32m    133\u001b[0m             \u001b[1;32melse\u001b[0m\u001b[1;33m:\u001b[0m\u001b[1;33m\u001b[0m\u001b[0m\n\u001b[0;32m    134\u001b[0m                 \u001b[0mwarning\u001b[0m\u001b[1;33m(\u001b[0m\u001b[1;34m\"Trying to train on dataset with no features present\"\u001b[0m\u001b[1;33m)\u001b[0m\u001b[1;33m\u001b[0m\u001b[0m\n",
      "\u001b[1;32mE:\\Anaconda3\\lib\\site-packages\\mvpa2\\clfs\\skl\\base.py\u001b[0m in \u001b[0;36m_train\u001b[1;34m(self, dataset)\u001b[0m\n\u001b[0;32m     95\u001b[0m         \u001b[1;32mtry\u001b[0m\u001b[1;33m:\u001b[0m\u001b[1;33m\u001b[0m\u001b[0m\n\u001b[0;32m     96\u001b[0m             \u001b[1;31m# train underlying learner\u001b[0m\u001b[1;33m\u001b[0m\u001b[1;33m\u001b[0m\u001b[0m\n\u001b[1;32m---> 97\u001b[1;33m             \u001b[0mself\u001b[0m\u001b[1;33m.\u001b[0m\u001b[0m_skl_learner\u001b[0m\u001b[1;33m.\u001b[0m\u001b[0mfit\u001b[0m\u001b[1;33m(\u001b[0m\u001b[0mdataset\u001b[0m\u001b[1;33m.\u001b[0m\u001b[0msamples\u001b[0m\u001b[1;33m,\u001b[0m \u001b[0mtargets\u001b[0m\u001b[1;33m)\u001b[0m\u001b[1;33m\u001b[0m\u001b[0m\n\u001b[0m\u001b[0;32m     98\u001b[0m         \u001b[1;32mexcept\u001b[0m \u001b[1;33m(\u001b[0m\u001b[0mValueError\u001b[0m\u001b[1;33m,\u001b[0m \u001b[0mnp\u001b[0m\u001b[1;33m.\u001b[0m\u001b[0mlinalg\u001b[0m\u001b[1;33m.\u001b[0m\u001b[0mLinAlgError\u001b[0m\u001b[1;33m)\u001b[0m \u001b[1;32mas\u001b[0m \u001b[0me\u001b[0m\u001b[1;33m:\u001b[0m\u001b[1;33m\u001b[0m\u001b[0m\n\u001b[0;32m     99\u001b[0m             raise FailedToTrainError(\"Failed to train %s on %s. Got '%s' during call to fit().\" \\\n",
      "\u001b[1;32mE:\\Anaconda3\\lib\\site-packages\\sklearn\\tree\\tree.py\u001b[0m in \u001b[0;36mfit\u001b[1;34m(self, X, y, sample_weight, check_input)\u001b[0m\n\u001b[0;32m    302\u001b[0m                                            max_leaf_nodes)\n\u001b[0;32m    303\u001b[0m \u001b[1;33m\u001b[0m\u001b[0m\n\u001b[1;32m--> 304\u001b[1;33m         \u001b[0mbuilder\u001b[0m\u001b[1;33m.\u001b[0m\u001b[0mbuild\u001b[0m\u001b[1;33m(\u001b[0m\u001b[0mself\u001b[0m\u001b[1;33m.\u001b[0m\u001b[0mtree_\u001b[0m\u001b[1;33m,\u001b[0m \u001b[0mX\u001b[0m\u001b[1;33m,\u001b[0m \u001b[0my\u001b[0m\u001b[1;33m,\u001b[0m \u001b[0msample_weight\u001b[0m\u001b[1;33m)\u001b[0m\u001b[1;33m\u001b[0m\u001b[0m\n\u001b[0m\u001b[0;32m    305\u001b[0m \u001b[1;33m\u001b[0m\u001b[0m\n\u001b[0;32m    306\u001b[0m         \u001b[1;32mif\u001b[0m \u001b[0mself\u001b[0m\u001b[1;33m.\u001b[0m\u001b[0mn_outputs_\u001b[0m \u001b[1;33m==\u001b[0m \u001b[1;36m1\u001b[0m\u001b[1;33m:\u001b[0m\u001b[1;33m\u001b[0m\u001b[0m\n",
      "\u001b[1;31mKeyboardInterrupt\u001b[0m: "
     ]
    }
   ],
   "source": [
    "#Regression Testing\n",
    "fold_values = [20, 15]\n",
    "depth_values = [2, 3, 5, 7, 10, 15, 20, 0]\n",
    "skip_values = [True, False]\n",
    "\n",
    "print(\"Starting all\")\n",
    "\n",
    "for skip_value in skip_values:\n",
    "    for fold_value in fold_values:\n",
    "        for depth_value in depth_values:\n",
    "            \n",
    "            if depth_value > 0:\n",
    "                temp = FoldWiseProcessor(ds, resampled_trajectory, SKLLearnerAdapter(DecisionTreeRegressor(max_depth=depth_value)), fold_value, skip_value, verbose=False)\n",
    "            else:\n",
    "                temp = FoldWiseProcessor(ds, resampled_trajectory, SKLLearnerAdapter(DecisionTreeRegressor()), fold_value, skip_value, verbose=False)\n",
    "            results = temp.process()\n",
    "            \n",
    "            fileName = str(skip_value)+\"_\"+str(fold_value)+\"_\"+str(depth_value)\n",
    "            np.savetxt(os.path.join('..', 'data', 'test_output', 'regression_'+fileName+'.txt'), results, fmt=\"%s\", delimiter=',')\n",
    "            \n",
    "            result_value = np.corrcoef(temp.results, ds.sa.targets)[0, 1]\n",
    "            \n",
    "            print(\"Fold: \" + str(fold_value) + \" Depth-Value: \" + str(depth_value) + \" Skip \" + str(skip_value) + \" Result: \" + str(result_value))\n",
    "        print(\"\")\n",
    "    print(\"\")"
   ]
  },
  {
   "cell_type": "code",
   "execution_count": null,
   "metadata": {
    "collapsed": true
   },
   "outputs": [],
   "source": []
  },
  {
   "cell_type": "code",
   "execution_count": null,
   "metadata": {
    "collapsed": false
   },
   "outputs": [],
   "source": [
    "array = np.array([1, 2, 3, 4, 9, 10])"
   ]
  },
  {
   "cell_type": "code",
   "execution_count": null,
   "metadata": {
    "collapsed": true
   },
   "outputs": [],
   "source": []
  },
  {
   "cell_type": "code",
   "execution_count": null,
   "metadata": {
    "collapsed": false
   },
   "outputs": [],
   "source": [
    "np.split(array, 2)"
   ]
  },
  {
   "cell_type": "code",
   "execution_count": null,
   "metadata": {
    "collapsed": false
   },
   "outputs": [],
   "source": [
    "def split_list(source_list, wanted_parts=1):\n",
    "    \n",
    "    association_transfrom = []\n",
    "    \n",
    "    for i in range(0, len(source_list)):\n",
    "        association_transfrom.append(i)\n",
    "        \n",
    "    #print(association_transfrom)\n",
    "    \n",
    "    length = len(association_transfrom)\n",
    "    ## // notates integer division\n",
    "    result_transform = [ association_transfrom[i*length // wanted_parts: (i+1)*length // wanted_parts] \n",
    "             for i in range(wanted_parts) ]\n",
    "    \n",
    "    count = 0\n",
    "    \n",
    "    result = []\n",
    "    \n",
    "    for i in range(0, len(result_transform)):\n",
    "        print(result_transform[i])\n",
    "        \n",
    "        for value in result_transform[i]:\n",
    "            result.append(i)\n",
    "            #print(value)\n",
    "            #source_list[value]\n",
    "            \n",
    "    return result"
   ]
  },
  {
   "cell_type": "code",
   "execution_count": null,
   "metadata": {
    "collapsed": false
   },
   "outputs": [],
   "source": [
    "split_list([1, 2, 3, 4, 9, 10, 6], 3)"
   ]
  },
  {
   "cell_type": "code",
   "execution_count": null,
   "metadata": {
    "collapsed": true
   },
   "outputs": [],
   "source": []
  },
  {
   "cell_type": "code",
   "execution_count": null,
   "metadata": {
    "collapsed": false,
    "scrolled": true
   },
   "outputs": [],
   "source": [
    "len(foldwiseprocessor.generate_chunk_transform_for_ds(ds, 7))"
   ]
  },
  {
   "cell_type": "code",
   "execution_count": null,
   "metadata": {
    "collapsed": false
   },
   "outputs": [],
   "source": [
    "len(ds)"
   ]
  },
  {
   "cell_type": "code",
   "execution_count": null,
   "metadata": {
    "collapsed": true
   },
   "outputs": [],
   "source": []
  }
 ],
 "metadata": {
  "kernelspec": {
   "display_name": "Python 3",
   "language": "python",
   "name": "python3"
  },
  "language_info": {
   "codemirror_mode": {
    "name": "ipython",
    "version": 3
   },
   "file_extension": ".py",
   "mimetype": "text/x-python",
   "name": "python",
   "nbconvert_exporter": "python",
   "pygments_lexer": "ipython3",
   "version": "3.5.1"
  }
 },
 "nbformat": 4,
 "nbformat_minor": 0
}

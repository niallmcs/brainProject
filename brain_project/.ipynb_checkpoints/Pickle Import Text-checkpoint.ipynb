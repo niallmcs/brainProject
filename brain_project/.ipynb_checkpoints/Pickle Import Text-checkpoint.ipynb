{
 "cells": [
  {
   "cell_type": "code",
   "execution_count": 3,
   "metadata": {
    "collapsed": false
   },
   "outputs": [
    {
     "data": {
      "text/plain": [
       "['smoothTrajRawIntensityMean_win10.pkl',\n",
       " 'smoothTrajRawIntensityMean_win100.pkl',\n",
       " 'smoothTrajRawIntensityMean_win20.pkl',\n",
       " 'smoothTrajRawIntensityMean_win200.pkl',\n",
       " 'smoothTrajRawIntensityMean_win50.pkl',\n",
       " 'smoothTrajRawIntensityMean_win500.pkl',\n",
       " 'smoothTrajRawValenceMean_win10.pkl',\n",
       " 'smoothTrajRawValenceMean_win100.pkl',\n",
       " 'smoothTrajRawValenceMean_win20.pkl',\n",
       " 'smoothTrajRawValenceMean_win200.pkl',\n",
       " 'smoothTrajRawValenceMean_win50.pkl',\n",
       " 'smoothTrajRawValenceMean_win500.pkl']"
      ]
     },
     "execution_count": 3,
     "metadata": {},
     "output_type": "execute_result"
    }
   ],
   "source": [
    "import pickle\n",
    "import os\n",
    "\n",
    "path = os.path.join('..', 'data', 'story', 'smoothedTrajectoriesDifferentWindowSizes')\n",
    "\n",
    "os.listdir(path)"
   ]
  },
  {
   "cell_type": "code",
   "execution_count": 10,
   "metadata": {
    "collapsed": false
   },
   "outputs": [
    {
     "ename": "FileNotFoundError",
     "evalue": "[Errno 2] No such file or directory: 'smoothTrajRawValenceMean_win200.pkl'",
     "output_type": "error",
     "traceback": [
      "\u001b[1;31m---------------------------------------------------------------------------\u001b[0m",
      "\u001b[1;31mFileNotFoundError\u001b[0m                         Traceback (most recent call last)",
      "\u001b[1;32m<ipython-input-10-92f60253e40e>\u001b[0m in \u001b[0;36m<module>\u001b[1;34m()\u001b[0m\n\u001b[1;32m----> 1\u001b[1;33m \u001b[0mtrajectory\u001b[0m \u001b[1;33m=\u001b[0m \u001b[0mpickle\u001b[0m\u001b[1;33m.\u001b[0m\u001b[0mload\u001b[0m\u001b[1;33m(\u001b[0m\u001b[0mopen\u001b[0m\u001b[1;33m(\u001b[0m\u001b[1;34m'smoothTrajRawValenceMean_win200.pkl'\u001b[0m\u001b[1;33m,\u001b[0m \u001b[1;34m\"rb\"\u001b[0m\u001b[1;33m)\u001b[0m\u001b[1;33m)\u001b[0m\u001b[1;33m\u001b[0m\u001b[0m\n\u001b[0m",
      "\u001b[1;31mFileNotFoundError\u001b[0m: [Errno 2] No such file or directory: 'smoothTrajRawValenceMean_win200.pkl'"
     ]
    }
   ],
   "source": [
    "trajectory = pickle.load(open('smoothTrajRawValenceMean_win200.pkl', \"r\"))"
   ]
  },
  {
   "cell_type": "code",
   "execution_count": 57,
   "metadata": {
    "collapsed": false
   },
   "outputs": [],
   "source": [
    "file = open(\"..\\\\data\\\\story\\\\smoothedTrajectoriesDifferentWindowSizes\\\\smoothTrajRawValenceMean_win50.pkl\", \"rb\")"
   ]
  },
  {
   "cell_type": "code",
   "execution_count": 58,
   "metadata": {
    "collapsed": false
   },
   "outputs": [
    {
     "ename": "UnicodeDecodeError",
     "evalue": "'ascii' codec can't decode byte 0xb3 in position 10: ordinal not in range(128)",
     "output_type": "error",
     "traceback": [
      "\u001b[1;31m---------------------------------------------------------------------------\u001b[0m",
      "\u001b[1;31mUnicodeDecodeError\u001b[0m                        Traceback (most recent call last)",
      "\u001b[1;32m<ipython-input-58-0cb860390b3f>\u001b[0m in \u001b[0;36m<module>\u001b[1;34m()\u001b[0m\n\u001b[1;32m----> 1\u001b[1;33m \u001b[0mtrajectory\u001b[0m \u001b[1;33m=\u001b[0m \u001b[0mpickle\u001b[0m\u001b[1;33m.\u001b[0m\u001b[0mload\u001b[0m\u001b[1;33m(\u001b[0m\u001b[0mfile\u001b[0m\u001b[1;33m)\u001b[0m\u001b[1;33m\u001b[0m\u001b[0m\n\u001b[0m",
      "\u001b[1;31mUnicodeDecodeError\u001b[0m: 'ascii' codec can't decode byte 0xb3 in position 10: ordinal not in range(128)"
     ]
    }
   ],
   "source": [
    "trajectory = pickle.load(file)"
   ]
  },
  {
   "cell_type": "code",
   "execution_count": null,
   "metadata": {
    "collapsed": true
   },
   "outputs": [],
   "source": []
  },
  {
   "cell_type": "code",
   "execution_count": 63,
   "metadata": {
    "collapsed": false
   },
   "outputs": [
    {
     "name": "stdout",
     "output_type": "stream",
     "text": [
      "[ 0.         -0.00311721 -0.00623443 ..., -0.39441291 -0.3984754\n",
      " -0.40253789]\n",
      "(5176,)\n"
     ]
    }
   ],
   "source": [
    "import pickle\n",
    "import gzip\n",
    "import numpy\n",
    "\n",
    "\n",
    "#http://stackoverflow.com/questions/11305790/pickle-incompatability-of-numpy-arrays-between-python-2-and-3\n",
    "with open('..\\\\data\\\\story\\\\smoothedTrajectoriesDifferentWindowSizes\\\\smoothTrajRawValenceMean_win200.pkl', 'rb') as f:\n",
    "    u = pickle._Unpickler(f)\n",
    "    u.encoding = 'latin1'\n",
    "    p = u.load()\n",
    "    print(p)\n",
    "\n",
    "print(p.shape)\n",
    "\n",
    "R = 3"
   ]
  },
  {
   "cell_type": "code",
   "execution_count": 70,
   "metadata": {
    "collapsed": false
   },
   "outputs": [
    {
     "data": {
      "text/plain": [
       "array([-1.74647268,  3.38734096, -0.01874347,  1.53804844,  2.1983195 ,\n",
       "        6.93263581,  1.51421877,  1.95468042,  1.69353899, -0.55050142])"
      ]
     },
     "execution_count": 70,
     "metadata": {},
     "output_type": "execute_result"
    }
   ],
   "source": [
    "from scipy.signal import resample\n",
    "\n",
    "resampled_value = resample(p, 10)\n",
    "resampled_value"
   ]
  },
  {
   "cell_type": "code",
   "execution_count": 76,
   "metadata": {
    "collapsed": false
   },
   "outputs": [
    {
     "data": {
      "image/png": "[encoded data removed]",
      "text/plain": [
       "<matplotlib.figure.Figure at 0xe5e9d66278>"
      ]
     },
     "metadata": {},
     "output_type": "display_data"
    }
   ],
   "source": [
    "%matplotlib inline\n",
    "import matplotlib.pyplot as plt\n",
    "import numpy as np\n",
    "\n",
    "plt.plot(p)\n",
    "plt.ylabel('Subject Response')\n",
    "plt.show()"
   ]
  },
  {
   "cell_type": "code",
   "execution_count": 77,
   "metadata": {
    "collapsed": false
   },
   "outputs": [
    {
     "data": {
      "text/plain": [
       "array([('Harry', 20, 0.5), ('had', 20.5, 0.5), ('never', 21, 0.5), ...,\n",
       "       ('thirteen', 2692, 0.5), ('was.', 2692.5, 0.5), ('+', 2693, 9)], \n",
       "      dtype=[('text', 'O'), ('start', 'O'), ('length', 'O')])"
      ]
     },
     "execution_count": 77,
     "metadata": {},
     "output_type": "execute_result"
    }
   ],
   "source": [
    "import scipy.io\n",
    "\n",
    "s3 = scipy.io.loadmat('..\\\\data\\\\plosone\\\\subject_3.mat', squeeze_me=True)\n",
    "s3['words']"
   ]
  },
  {
   "cell_type": "code",
   "execution_count": 78,
   "metadata": {
    "collapsed": false
   },
   "outputs": [
    {
     "data": {
      "text/plain": [
       "('Harry', 20, 0.5)"
      ]
     },
     "execution_count": 78,
     "metadata": {},
     "output_type": "execute_result"
    }
   ],
   "source": [
    "#get the first element\n",
    "s3['words'][0]"
   ]
  },
  {
   "cell_type": "code",
   "execution_count": 80,
   "metadata": {
    "collapsed": false
   },
   "outputs": [
    {
     "data": {
      "text/plain": [
       "20"
      ]
     },
     "execution_count": 80,
     "metadata": {},
     "output_type": "execute_result"
    }
   ],
   "source": [
    "#get the time from the tuple\n",
    "s3['words'][0][1]"
   ]
  },
  {
   "cell_type": "code",
   "execution_count": 88,
   "metadata": {
    "collapsed": false
   },
   "outputs": [
    {
     "data": {
      "text/plain": [
       "10"
      ]
     },
     "execution_count": 88,
     "metadata": {},
     "output_type": "execute_result"
    }
   ],
   "source": [
    "sample_per_second = 0.5\n",
    "first_time = s3['words'][0][1]\n",
    "\n",
    "skipped_samples = int(first_time * sample_per_second)\n",
    "\n",
    "skipped_samples"
   ]
  },
  {
   "cell_type": "code",
   "execution_count": 89,
   "metadata": {
    "collapsed": false
   },
   "outputs": [
    {
     "data": {
      "text/plain": [
       "5176"
      ]
     },
     "execution_count": 89,
     "metadata": {},
     "output_type": "execute_result"
    }
   ],
   "source": [
    "#get the length\n",
    "len(s3['words'])"
   ]
  },
  {
   "cell_type": "code",
   "execution_count": 91,
   "metadata": {
    "collapsed": false
   },
   "outputs": [
    {
     "data": {
      "text/plain": [
       "('+', 2693, 9)"
      ]
     },
     "execution_count": 91,
     "metadata": {},
     "output_type": "execute_result"
    }
   ],
   "source": [
    "s3['words'][len(s3['words'])-1]"
   ]
  },
  {
   "cell_type": "code",
   "execution_count": 127,
   "metadata": {
    "collapsed": false
   },
   "outputs": [
    {
     "data": {
      "text/plain": [
       "2702"
      ]
     },
     "execution_count": 127,
     "metadata": {},
     "output_type": "execute_result"
    }
   ],
   "source": [
    "last_word_time_start = s3['words'][len(s3['words'])-1][1]\n",
    "last_word_duration = s3['words'][len(s3['words'])-1][2]\n",
    "story_ending = int(last_word_time_start + last_word_duration)\n",
    "story_ending"
   ]
  },
  {
   "cell_type": "code",
   "execution_count": 128,
   "metadata": {
    "collapsed": false
   },
   "outputs": [
    {
     "data": {
      "text/plain": [
       "1351"
      ]
     },
     "execution_count": 128,
     "metadata": {},
     "output_type": "execute_result"
    }
   ],
   "source": [
    "#store the number of samples from the dataset\n",
    "number_of_samples = 1351\n",
    "number_of_samples"
   ]
  },
  {
   "cell_type": "code",
   "execution_count": 129,
   "metadata": {
    "collapsed": false
   },
   "outputs": [
    {
     "data": {
      "text/plain": [
       "2702"
      ]
     },
     "execution_count": 129,
     "metadata": {},
     "output_type": "execute_result"
    }
   ],
   "source": [
    "total_samples_time = int(number_of_samples / sample_per_second)\n",
    "total_samples_time"
   ]
  },
  {
   "cell_type": "code",
   "execution_count": 130,
   "metadata": {
    "collapsed": false
   },
   "outputs": [
    {
     "data": {
      "text/plain": [
       "2692"
      ]
     },
     "execution_count": 130,
     "metadata": {},
     "output_type": "execute_result"
    }
   ],
   "source": [
    "#work out new number of valid samples\n",
    "new_total_sample_time = total_samples_time - skipped_samples\n",
    "new_total_sample_time"
   ]
  },
  {
   "cell_type": "code",
   "execution_count": 131,
   "metadata": {
    "collapsed": false
   },
   "outputs": [
    {
     "data": {
      "text/plain": [
       "1346"
      ]
     },
     "execution_count": 131,
     "metadata": {},
     "output_type": "execute_result"
    }
   ],
   "source": [
    "#get the number of samples\n",
    "total_interesting_samples = int(new_total_sample_time * sample_per_second)\n",
    "total_interesting_samples"
   ]
  },
  {
   "cell_type": "code",
   "execution_count": 132,
   "metadata": {
    "collapsed": false
   },
   "outputs": [
    {
     "data": {
      "text/plain": [
       "array([-0.1398198 ,  0.01426231, -0.03339486, ...,  1.47696292,\n",
       "       -0.07964283, -0.39637233])"
      ]
     },
     "execution_count": 132,
     "metadata": {},
     "output_type": "execute_result"
    }
   ],
   "source": [
    "#resample array\n",
    "resampled_value = resample(p, total_interesting_samples)\n",
    "resampled_value"
   ]
  },
  {
   "cell_type": "code",
   "execution_count": 133,
   "metadata": {
    "collapsed": false
   },
   "outputs": [
    {
     "data": {
      "text/plain": [
       "1346"
      ]
     },
     "execution_count": 133,
     "metadata": {},
     "output_type": "execute_result"
    }
   ],
   "source": [
    "len(resampled_value)"
   ]
  },
  {
   "cell_type": "code",
   "execution_count": 134,
   "metadata": {
    "collapsed": false
   },
   "outputs": [
    {
     "data": {
      "text/plain": [
       "array([('little', 2688.5, 0.5), ('package', 2689, 0.5),\n",
       "       ('from', 2689.5, 0.5), ('vault', 2690, 0.5), ('seven', 2690.5, 0.5),\n",
       "       ('hundred', 2691, 0.5), ('and', 2691.5, 0.5),\n",
       "       ('thirteen', 2692, 0.5), ('was.', 2692.5, 0.5), ('+', 2693, 9)], \n",
       "      dtype=[('text', 'O'), ('start', 'O'), ('length', 'O')])"
      ]
     },
     "execution_count": 134,
     "metadata": {},
     "output_type": "execute_result"
    }
   ],
   "source": [
    "s3['words'][-10:]"
   ]
  },
  {
   "cell_type": "code",
   "execution_count": 140,
   "metadata": {
    "collapsed": false
   },
   "outputs": [
    {
     "name": "stdout",
     "output_type": "stream",
     "text": [
      "('+', 671, 9)\n",
      "('+', 1375, 9)\n",
      "('+', 1933, 9)\n",
      "('+', 2693, 9)\n"
     ]
    },
    {
     "data": {
      "text/plain": [
       "9"
      ]
     },
     "execution_count": 140,
     "metadata": {},
     "output_type": "execute_result"
    }
   ],
   "source": [
    "num = 0\n",
    "for value in s3['words']:\n",
    "    if value[2] > num:\n",
    "        num = value[2]\n",
    "    if value[2] > 0.5:\n",
    "        print(value)\n",
    "num"
   ]
  },
  {
   "cell_type": "code",
   "execution_count": null,
   "metadata": {
    "collapsed": true
   },
   "outputs": [],
   "source": []
  }
 ],
 "metadata": {
  "kernelspec": {
   "display_name": "Python 3",
   "language": "python",
   "name": "python3"
  },
  "language_info": {
   "codemirror_mode": {
    "name": "ipython",
    "version": 3
   },
   "file_extension": ".py",
   "mimetype": "text/x-python",
   "name": "python",
   "nbconvert_exporter": "python",
   "pygments_lexer": "ipython3",
   "version": "3.5.1"
  }
 },
 "nbformat": 4,
 "nbformat_minor": 0
}

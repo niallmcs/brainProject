{
 "cells": [
  {
   "cell_type": "code",
   "execution_count": null,
   "metadata": {
    "collapsed": false
   },
   "outputs": [],
   "source": [
    "import mvpa2"
   ]
  },
  {
   "cell_type": "code",
   "execution_count": 1,
   "metadata": {
    "collapsed": false
   },
   "outputs": [
    {
     "name": "stderr",
     "output_type": "stream",
     "text": [
      "E:\\Anaconda3\\lib\\site-packages\\mvpa2\\base\\dochelpers.py:167: FutureWarning: split() requires a non-empty pattern match.\n",
      "  entries = __re_spliter1.split(paramdoc)\n",
      "E:\\Anaconda3\\lib\\site-packages\\mvpa2\\base\\dochelpers.py:167: FutureWarning: split() requires a non-empty pattern match.\n",
      "  entries = __re_spliter1.split(paramdoc)\n",
      "E:\\Anaconda3\\lib\\site-packages\\mvpa2\\base\\dochelpers.py:167: FutureWarning: split() requires a non-empty pattern match.\n",
      "  entries = __re_spliter1.split(paramdoc)\n",
      "E:\\Anaconda3\\lib\\site-packages\\scipy\\_lib\\decorator.py:205: DeprecationWarning: inspect.getargspec() is deprecated, use inspect.signature() instead\n",
      "  first = inspect.getargspec(caller)[0][0]  # first arg\n",
      "E:\\Anaconda3\\lib\\site-packages\\scipy\\optimize\\nonlin.py:1502: DeprecationWarning: inspect.getargspec() is deprecated, use inspect.signature() instead\n",
      "  args, varargs, varkw, defaults = inspect.getargspec(jac.__init__)\n",
      "E:\\Anaconda3\\lib\\site-packages\\scipy\\stats\\_distn_infrastructure.py:636: DeprecationWarning: inspect.getargspec() is deprecated, use inspect.signature() instead\n",
      "  sign = inspect.getargspec(self._stats)\n",
      "E:\\Anaconda3\\lib\\site-packages\\scipy\\stats\\_distn_infrastructure.py:692: DeprecationWarning: inspect.getargspec() is deprecated, use inspect.signature() instead\n",
      "  shapes_args = inspect.getargspec(meth)\n",
      "E:\\Anaconda3\\lib\\site-packages\\scipy\\integrate\\quadpack.py:352: IntegrationWarning: Extremely bad integrand behavior occurs at some points of the\n",
      "  integration interval.\n",
      "  warnings.warn(msg, IntegrationWarning)\n",
      "E:\\Anaconda3\\lib\\site-packages\\matplotlib\\artist.py:970: DeprecationWarning: inspect.getargspec() is deprecated, use inspect.signature() instead\n",
      "  if len(inspect.getargspec(o)[0]) < 2:\n",
      "E:\\Anaconda3\\lib\\site-packages\\matplotlib\\patches.py:1716: DeprecationWarning: inspect.getargspec() is deprecated, use inspect.signature() instead\n",
      "  args, varargs, varkw, defaults = inspect.getargspec(cls.__init__)\n",
      "E:\\Anaconda3\\lib\\site-packages\\mvpa2\\base\\dochelpers.py:167: FutureWarning: split() requires a non-empty pattern match.\n",
      "  entries = __re_spliter1.split(paramdoc)\n"
     ]
    },
    {
     "name": "stdout",
     "output_type": "stream",
     "text": [
      "WARNING: Failed to load fast implementation of SMLR.  May be you forgotten to build it.  We will use much slower pure-Python version. Original exception was [WinError 126] The specified module could not be found\n",
      " * Please note: warnings are printed only once, but underlying problem might occur many times *\n",
      "WARNING: SMLR: C implementation is not available. Using pure Python one\n"
     ]
    },
    {
     "name": "stderr",
     "output_type": "stream",
     "text": [
      "E:\\Anaconda3\\lib\\site-packages\\sklearn\\utils\\fixes.py:64: DeprecationWarning: inspect.getargspec() is deprecated, use inspect.signature() instead\n",
      "  if 'order' in inspect.getargspec(np.copy)[0]:\n",
      "E:\\Anaconda3\\lib\\site-packages\\scipy\\_lib\\decorator.py:205: DeprecationWarning: inspect.getargspec() is deprecated, use inspect.signature() instead\n",
      "  first = inspect.getargspec(caller)[0][0]  # first arg\n",
      "E:\\Anaconda3\\lib\\site-packages\\mvpa2\\base\\dochelpers.py:167: FutureWarning: split() requires a non-empty pattern match.\n",
      "  entries = __re_spliter1.split(paramdoc)\n",
      "E:\\Anaconda3\\lib\\site-packages\\mvpa2\\datasets\\sources\\skl_data.py:32: DeprecationWarning: inspect.getargspec() is deprecated, use inspect.signature() instead\n",
      "  argnames, varargs, varkw, defaults = inspect.getargspec(fx)\n",
      "E:\\Anaconda3\\lib\\site-packages\\mvpa2\\base\\dochelpers.py:167: FutureWarning: split() requires a non-empty pattern match.\n",
      "  entries = __re_spliter1.split(paramdoc)\n",
      "E:\\Anaconda3\\lib\\site-packages\\pandas\\__init__.py:7: DeprecationWarning: bad escape \\s\n",
      "  from pandas import hashtable, tslib, lib\n",
      "E:\\Anaconda3\\lib\\site-packages\\statsmodels\\base\\wrapper.py:94: DeprecationWarning: inspect.getargspec() is deprecated, use inspect.signature() instead\n",
      "  argspec = inspect.getargspec(func)\n",
      "E:\\Anaconda3\\lib\\site-packages\\numpy\\lib\\utils.py:99: DeprecationWarning: `scipy.linalg.calc_lwork` is deprecated!\n",
      "\n",
      "calc_lwork was an internal module in Scipy and has been removed.\n",
      "\n",
      "Several functions in scipy.linalg.lapack have *_lwork variants\n",
      "that perform the lwork calculation (from Scipy >= 0.15.0), or\n",
      "allow passing in LWORK=-1 argument to perform the computation.\n",
      "\n",
      "\n",
      "  warnings.warn(depdoc, DeprecationWarning)\n",
      "E:\\Anaconda3\\lib\\site-packages\\mvpa2\\base\\dochelpers.py:167: FutureWarning: split() requires a non-empty pattern match.\n",
      "  entries = __re_spliter1.split(paramdoc)\n"
     ]
    }
   ],
   "source": [
    "from mvpa2.suite import *\n",
    "\n",
    "data_path = os.path.join('..', 'data', 'haxby2001')\n",
    "attr_fname = os.path.join(data_path, 'sub001', 'BOLD', 'task001_run001', 'attributes.txt')\n",
    "attr = SampleAttributes(attr_fname)\n",
    "bold_fname = os.path.join(data_path, 'sub001', 'BOLD', 'task001_run001', 'bold.nii.gz')\n",
    "mask_fname = os.path.join(data_path, 'sub001', 'masks', 'orig', 'vt.nii.gz')"
   ]
  },
  {
   "cell_type": "code",
   "execution_count": 2,
   "metadata": {
    "collapsed": false
   },
   "outputs": [
    {
     "name": "stdout",
     "output_type": "stream",
     "text": [
      "WARNING: Detected incorrect (nan) scl_ fields. Resetting to scl_slope=1.0 and scl_inter=0.0\n"
     ]
    },
    {
     "data": {
      "text/plain": [
       "(121, 577)"
      ]
     },
     "execution_count": 2,
     "metadata": {},
     "output_type": "execute_result"
    }
   ],
   "source": [
    "import nibabel\n",
    "import mvpa2.datasets.mri\n",
    "\n",
    "dataset = fmri_dataset(samples=bold_fname, targets=attr.targets, chunks=attr.chunks, mask=mask_fname)\n",
    "dataset.shape"
   ]
  },
  {
   "cell_type": "code",
   "execution_count": 3,
   "metadata": {
    "collapsed": false
   },
   "outputs": [],
   "source": [
    "poly_detrend(dataset, chunks_attr='chunks')"
   ]
  },
  {
   "cell_type": "code",
   "execution_count": 4,
   "metadata": {
    "collapsed": true
   },
   "outputs": [],
   "source": [
    "dataset = dataset[dataset.sa.targets != 'rest']"
   ]
  },
  {
   "cell_type": "code",
   "execution_count": 5,
   "metadata": {
    "collapsed": true
   },
   "outputs": [],
   "source": [
    "sensana = OneWayAnova()\n",
    "sens = sensana(dataset)"
   ]
  },
  {
   "cell_type": "code",
   "execution_count": 6,
   "metadata": {
    "collapsed": true
   },
   "outputs": [],
   "source": [
    "mri_args = {\n",
    "    'background' : \n",
    "    'background_mask' : os.path.join(data_path, 'sub001', 'masks', 'orig', 'brain.os.path.join(data_path, 'sub001', 'anatomy', 'highres001.nii.gz'),nii.gz'),\n",
    "    'overlay_mask' : os.path.join(data_path, 'sub001', 'masks', 'orig', 'gray.nii.gz'),\n",
    "    'cmap_bg' : 'gray',\n",
    "    'cmap_overlay' : 'autumn', # YlOrRd_r # pl.cm.autumn\n",
    "    'interactive' : cfg.getboolean('examples', 'interactive', True),\n",
    "    }"
   ]
  },
  {
   "cell_type": "code",
   "execution_count": null,
   "metadata": {
    "collapsed": false
   },
   "outputs": [],
   "source": [
    "fig = plot_lightbox(overlay=map2nifti(dataset, sens),\n",
    "              vlim=(0, None), slices=range(25,29), **mri_args)"
   ]
  },
  {
   "cell_type": "code",
   "execution_count": 9,
   "metadata": {
    "collapsed": false
   },
   "outputs": [
    {
     "name": "stdout",
     "output_type": "stream",
     "text": [
      "None\n",
      "4\n",
      "2\n",
      "2\n"
     ]
    },
    {
     "name": "stderr",
     "output_type": "stream",
     "text": [
      "E:\\Anaconda3\\lib\\site-packages\\matplotlib\\collections.py:590: FutureWarning: elementwise comparison failed; returning scalar instead, but in the future will perform elementwise comparison\n",
      "  if self._edgecolors == str('face'):\n"
     ]
    }
   ],
   "source": [
    "from brainPlotter import plot_lightbox\n",
    "\n",
    "fig = plot_lightbox(overlay=map2nifti(dataset, sens),\n",
    "              vlim=(0, None), slices=range(25,29), **mri_args)\n",
    "# plot_brain_lightbox()"
   ]
  },
  {
   "cell_type": "code",
   "execution_count": null,
   "metadata": {
    "collapsed": true
   },
   "outputs": [],
   "source": []
  }
 ],
 "metadata": {
  "kernelspec": {
   "display_name": "Python 3",
   "language": "python",
   "name": "python3"
  },
  "language_info": {
   "codemirror_mode": {
    "name": "ipython",
    "version": 3
   },
   "file_extension": ".py",
   "mimetype": "text/x-python",
   "name": "python",
   "nbconvert_exporter": "python",
   "pygments_lexer": "ipython3",
   "version": "3.5.1"
  }
 },
 "nbformat": 4,
 "nbformat_minor": 0
}

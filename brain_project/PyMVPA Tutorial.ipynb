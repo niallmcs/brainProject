{
 "cells": [
  {
   "cell_type": "code",
   "execution_count": 1,
   "metadata": {
    "collapsed": false
   },
   "outputs": [],
   "source": [
    "import mvpa2"
   ]
  },
  {
   "cell_type": "code",
   "execution_count": 2,
   "metadata": {
    "collapsed": false
   },
   "outputs": [
    {
     "name": "stderr",
     "output_type": "stream",
     "text": [
      "/home/niall/anaconda2/lib/python2.7/site-packages/numpy/lib/utils.py:99: DeprecationWarning: `scipy.weave` is deprecated, use `weave` instead!\n",
      "  warnings.warn(depdoc, DeprecationWarning)\n",
      "/home/niall/anaconda2/lib/python2.7/site-packages/sklearn/lda.py:4: DeprecationWarning: lda.LDA has been moved to discriminant_analysis.LinearDiscriminantAnalysis in 0.17 and will be removed in 0.19\n",
      "  \"in 0.17 and will be removed in 0.19\", DeprecationWarning)\n",
      "/home/niall/anaconda2/lib/python2.7/site-packages/numpy/lib/utils.py:99: DeprecationWarning: `scipy.linalg.calc_lwork` is deprecated!\n",
      "\n",
      "calc_lwork was an internal module in Scipy and has been removed.\n",
      "\n",
      "Several functions in scipy.linalg.lapack have *_lwork variants\n",
      "that perform the lwork calculation (from Scipy >= 0.15.0), or\n",
      "allow passing in LWORK=-1 argument to perform the computation.\n",
      "\n",
      "\n",
      "  warnings.warn(depdoc, DeprecationWarning)\n"
     ]
    }
   ],
   "source": [
    "from mvpa2.suite import *\n",
    "\n",
    "data_path = os.path.join('..', 'data', 'haxby2001')\n",
    "attr_fname = os.path.join(data_path, 'sub001', 'BOLD', 'task001_run001', 'attributes.txt')\n",
    "attr = SampleAttributes(attr_fname)\n",
    "bold_fname = os.path.join(data_path, 'sub001', 'BOLD', 'task001_run001', 'bold.nii.gz')\n",
    "mask_fname = os.path.join(data_path, 'sub001', 'masks', 'orig', 'vt.nii.gz')"
   ]
  },
  {
   "cell_type": "code",
   "execution_count": null,
   "metadata": {
    "collapsed": false
   },
   "outputs": [],
   "source": [
    "mvpa2.wtf()"
   ]
  },
  {
   "cell_type": "code",
   "execution_count": 3,
   "metadata": {
    "collapsed": false
   },
   "outputs": [
    {
     "name": "stdout",
     "output_type": "stream",
     "text": [
      "WARNING: Detected incorrect (nan) scl_ fields. Resetting to scl_slope=1.0 and scl_inter=0.0\n",
      " * Please note: warnings are printed only once, but underlying problem might occur many times *\n"
     ]
    },
    {
     "data": {
      "text/plain": [
       "(121, 577)"
      ]
     },
     "execution_count": 3,
     "metadata": {},
     "output_type": "execute_result"
    }
   ],
   "source": [
    "import nibabel\n",
    "import mvpa2.datasets.mri\n",
    "\n",
    "dataset = fmri_dataset(samples=bold_fname, targets=attr.targets, chunks=attr.chunks, mask=mask_fname)\n",
    "dataset.shape"
   ]
  },
  {
   "cell_type": "code",
   "execution_count": 4,
   "metadata": {
    "collapsed": false
   },
   "outputs": [],
   "source": [
    "poly_detrend(dataset, chunks_attr='chunks')"
   ]
  },
  {
   "cell_type": "code",
   "execution_count": 5,
   "metadata": {
    "collapsed": true
   },
   "outputs": [],
   "source": [
    "dataset = dataset[dataset.sa.targets != 'rest']"
   ]
  },
  {
   "cell_type": "code",
   "execution_count": 6,
   "metadata": {
    "collapsed": true
   },
   "outputs": [],
   "source": [
    "sensana = OneWayAnova()\n",
    "sens = sensana(dataset)"
   ]
  },
  {
   "cell_type": "code",
   "execution_count": 7,
   "metadata": {
    "collapsed": true
   },
   "outputs": [],
   "source": [
    "mri_args = {\n",
    "    'background' : os.path.join(data_path, 'sub001', 'anatomy', 'highres001.nii.gz'),\n",
    "    'background_mask' : os.path.join(data_path, 'sub001', 'masks', 'orig', 'brain.nii.gz'),\n",
    "    'overlay_mask' : os.path.join(data_path, 'sub001', 'masks', 'orig', 'gray.nii.gz'),\n",
    "    'cmap_bg' : 'gray',\n",
    "    'cmap_overlay' : 'autumn', # YlOrRd_r # pl.cm.autumn\n",
    "    'interactive' : cfg.getboolean('examples', 'interactive', True),\n",
    "    }"
   ]
  },
  {
   "cell_type": "code",
   "execution_count": 8,
   "metadata": {
    "collapsed": false
   },
   "outputs": [
    {
     "name": "stderr",
     "output_type": "stream",
     "text": [
      "/home/niall/anaconda2/lib/python2.7/site-packages/matplotlib/axes/_base.py:1209: UnicodeWarning: Unicode equal comparison failed to convert both arguments to Unicode - interpreting them as being unequal\n",
      "  if aspect == 'normal':\n",
      "/home/niall/anaconda2/lib/python2.7/site-packages/matplotlib/axes/_base.py:1214: UnicodeWarning: Unicode equal comparison failed to convert both arguments to Unicode - interpreting them as being unequal\n",
      "  elif aspect in ('equal', 'auto'):\n"
     ]
    }
   ],
   "source": [
    "fig = plot_lightbox(overlay=map2nifti(dataset, sens),\n",
    "              vlim=(0, None), slices=range(25,29), **mri_args)"
   ]
  },
  {
   "cell_type": "code",
   "execution_count": null,
   "metadata": {
    "collapsed": false
   },
   "outputs": [],
   "source": [
    "import os\n",
    "print os.getcwd()"
   ]
  },
  {
   "cell_type": "code",
   "execution_count": null,
   "metadata": {
    "collapsed": true
   },
   "outputs": [],
   "source": [
    "import nibabel as nb\n",
    "from nibabel.spatialimages import SpatialImage"
   ]
  },
  {
   "cell_type": "code",
   "execution_count": null,
   "metadata": {
    "collapsed": false
   },
   "outputs": [],
   "source": [
    "from brainPlotter import plot_lightbox_new\n",
    "\n",
    "fig = lb.plot_lightbox_new(overlay=map2nifti(dataset, sens),\n",
    "              vlim=(0, None), slices=range(25,29), **mri_args)"
   ]
  },
  {
   "cell_type": "code",
   "execution_count": null,
   "metadata": {
    "collapsed": true
   },
   "outputs": [],
   "source": []
  }
 ],
 "metadata": {
  "kernelspec": {
   "display_name": "Python 2",
   "language": "python",
   "name": "python2"
  },
  "language_info": {
   "codemirror_mode": {
    "name": "ipython",
    "version": 2
   },
   "file_extension": ".py",
   "mimetype": "text/x-python",
   "name": "python",
   "nbconvert_exporter": "python",
   "pygments_lexer": "ipython2",
   "version": "2.7.11"
  }
 },
 "nbformat": 4,
 "nbformat_minor": 0
}

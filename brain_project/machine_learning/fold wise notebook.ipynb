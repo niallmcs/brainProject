{
 "cells": [
  {
   "cell_type": "code",
   "execution_count": 1,
   "metadata": {
    "collapsed": false
   },
   "outputs": [
    {
     "name": "stderr",
     "output_type": "stream",
     "text": [
      "ERROR: Line magic function `%aimport` not found.\n",
      "E:\\Anaconda3\\lib\\site-packages\\mvpa2\\base\\dochelpers.py:167: FutureWarning: split() requires a non-empty pattern match.\n",
      "  entries = __re_spliter1.split(paramdoc)\n",
      "E:\\Anaconda3\\lib\\site-packages\\mvpa2\\base\\dochelpers.py:167: FutureWarning: split() requires a non-empty pattern match.\n",
      "  entries = __re_spliter1.split(paramdoc)\n",
      "E:\\Anaconda3\\lib\\site-packages\\mvpa2\\base\\dochelpers.py:167: FutureWarning: split() requires a non-empty pattern match.\n",
      "  entries = __re_spliter1.split(paramdoc)\n",
      "E:\\Anaconda3\\lib\\site-packages\\scipy\\_lib\\decorator.py:205: DeprecationWarning: inspect.getargspec() is deprecated, use inspect.signature() instead\n",
      "  first = inspect.getargspec(caller)[0][0]  # first arg\n",
      "E:\\Anaconda3\\lib\\site-packages\\scipy\\optimize\\nonlin.py:1502: DeprecationWarning: inspect.getargspec() is deprecated, use inspect.signature() instead\n",
      "  args, varargs, varkw, defaults = inspect.getargspec(jac.__init__)\n",
      "E:\\Anaconda3\\lib\\site-packages\\scipy\\stats\\_distn_infrastructure.py:636: DeprecationWarning: inspect.getargspec() is deprecated, use inspect.signature() instead\n",
      "  sign = inspect.getargspec(self._stats)\n",
      "E:\\Anaconda3\\lib\\site-packages\\scipy\\stats\\_distn_infrastructure.py:692: DeprecationWarning: inspect.getargspec() is deprecated, use inspect.signature() instead\n",
      "  shapes_args = inspect.getargspec(meth)\n",
      "E:\\Anaconda3\\lib\\site-packages\\scipy\\integrate\\quadpack.py:352: IntegrationWarning: Extremely bad integrand behavior occurs at some points of the\n",
      "  integration interval.\n",
      "  warnings.warn(msg, IntegrationWarning)\n",
      "E:\\Anaconda3\\lib\\site-packages\\matplotlib\\artist.py:970: DeprecationWarning: inspect.getargspec() is deprecated, use inspect.signature() instead\n",
      "  if len(inspect.getargspec(o)[0]) < 2:\n",
      "E:\\Anaconda3\\lib\\site-packages\\matplotlib\\patches.py:1716: DeprecationWarning: inspect.getargspec() is deprecated, use inspect.signature() instead\n",
      "  args, varargs, varkw, defaults = inspect.getargspec(cls.__init__)\n",
      "E:\\Anaconda3\\lib\\site-packages\\mvpa2\\base\\dochelpers.py:167: FutureWarning: split() requires a non-empty pattern match.\n",
      "  entries = __re_spliter1.split(paramdoc)\n"
     ]
    },
    {
     "name": "stdout",
     "output_type": "stream",
     "text": [
      "WARNING: Failed to load fast implementation of SMLR.  May be you forgotten to build it.  We will use much slower pure-Python version. Original exception was [WinError 126] The specified module could not be found\n",
      " * Please note: warnings are printed only once, but underlying problem might occur many times *\n",
      "WARNING: SMLR: C implementation is not available. Using pure Python one\n"
     ]
    },
    {
     "name": "stderr",
     "output_type": "stream",
     "text": [
      "E:\\Anaconda3\\lib\\site-packages\\sklearn\\utils\\fixes.py:64: DeprecationWarning: inspect.getargspec() is deprecated, use inspect.signature() instead\n",
      "  if 'order' in inspect.getargspec(np.copy)[0]:\n",
      "E:\\Anaconda3\\lib\\site-packages\\scipy\\_lib\\decorator.py:205: DeprecationWarning: inspect.getargspec() is deprecated, use inspect.signature() instead\n",
      "  first = inspect.getargspec(caller)[0][0]  # first arg\n",
      "E:\\Anaconda3\\lib\\site-packages\\mvpa2\\base\\dochelpers.py:167: FutureWarning: split() requires a non-empty pattern match.\n",
      "  entries = __re_spliter1.split(paramdoc)\n",
      "E:\\Anaconda3\\lib\\site-packages\\mvpa2\\datasets\\sources\\skl_data.py:32: DeprecationWarning: inspect.getargspec() is deprecated, use inspect.signature() instead\n",
      "  argnames, varargs, varkw, defaults = inspect.getargspec(fx)\n",
      "E:\\Anaconda3\\lib\\site-packages\\mvpa2\\base\\dochelpers.py:167: FutureWarning: split() requires a non-empty pattern match.\n",
      "  entries = __re_spliter1.split(paramdoc)\n",
      "E:\\Anaconda3\\lib\\site-packages\\pandas\\__init__.py:7: DeprecationWarning: bad escape \\s\n",
      "  from pandas import hashtable, tslib, lib\n",
      "E:\\Anaconda3\\lib\\site-packages\\statsmodels\\base\\wrapper.py:94: DeprecationWarning: inspect.getargspec() is deprecated, use inspect.signature() instead\n",
      "  argspec = inspect.getargspec(func)\n",
      "E:\\Anaconda3\\lib\\site-packages\\numpy\\lib\\utils.py:99: DeprecationWarning: `scipy.linalg.calc_lwork` is deprecated!\n",
      "\n",
      "calc_lwork was an internal module in Scipy and has been removed.\n",
      "\n",
      "Several functions in scipy.linalg.lapack have *_lwork variants\n",
      "that perform the lwork calculation (from Scipy >= 0.15.0), or\n",
      "allow passing in LWORK=-1 argument to perform the computation.\n",
      "\n",
      "\n",
      "  warnings.warn(depdoc, DeprecationWarning)\n",
      "E:\\Anaconda3\\lib\\site-packages\\mvpa2\\base\\dochelpers.py:167: FutureWarning: split() requires a non-empty pattern match.\n",
      "  entries = __re_spliter1.split(paramdoc)\n"
     ]
    }
   ],
   "source": [
    "%aimport foldwiseprocessor\n",
    "from foldwiseprocessor import FoldWiseProcessor\n",
    "import foldwiseprocessor\n",
    "\n",
    "from fmrisamplecleaningtransform import get_affected_samples\n",
    "from fmricleaner import remove_samples\n",
    "import os\n",
    "import numpy as np\n",
    "import mvpa2\n",
    "import nibabel\n",
    "import pickle\n",
    "import gzip\n",
    "from mvpa2.suite import *\n",
    "from sklearn.tree import DecisionTreeRegressor\n",
    "import matplotlib.pyplot as plt\n",
    "%matplotlib inline"
   ]
  },
  {
   "cell_type": "code",
   "execution_count": null,
   "metadata": {
    "collapsed": true
   },
   "outputs": [],
   "source": []
  },
  {
   "cell_type": "code",
   "execution_count": 2,
   "metadata": {
    "collapsed": false
   },
   "outputs": [
    {
     "name": "stdout",
     "output_type": "stream",
     "text": [
      "WARNING: Detected incorrect (nan) scl_ fields. Resetting to scl_slope=1.0 and scl_inter=0.0\n",
      "1295\n"
     ]
    }
   ],
   "source": [
    "# get the location of the files\n",
    "trajectory_path = \"..\\\\..\\\\data\\\\story\\\\smoothedTrajectoriesDifferentWindowSizes\\\\smoothTrajRawValenceMean_win10.pkl\"\n",
    "subject_timeline_path = \"..\\\\..\\\\data\\\\plosone\\\\subject_3.mat\"\n",
    "bold_fname = os.path.join('..', '..', 'data', 'qub', '4Dw.nii')\n",
    "mask_fname = os.path.join('..', '..', 'data', 'qub', 'struct', 'final_mask_w.hdr')\n",
    "ds_removal_transform = get_affected_samples(trajectory_path, subject_timeline_path)\n",
    "ds = remove_samples(bold_fname, mask_fname, ds_removal_transform)\n",
    "print(len(ds))\n",
    "#get the trajectory\n",
    "with open('..\\\\..\\\\data\\\\story\\\\smoothedTrajectoriesDifferentWindowSizes\\\\smoothTrajRawValenceMean_win10.pkl', 'rb') as f:\n",
    "    u = pickle._Unpickler(f)\n",
    "    u.encoding = 'latin1'\n",
    "    original_trajectory = u.load()\n",
    "#downsample the trajectory to fit match the number of fMRI sample\n",
    "resampled_trajectory = resample(original_trajectory, len(ds.samples))\n",
    "ds.sa['targets'] = resampled_trajectory"
   ]
  },
  {
   "cell_type": "code",
   "execution_count": 3,
   "metadata": {
    "collapsed": false
   },
   "outputs": [],
   "source": [
    "#ds = ds[:100]"
   ]
  },
  {
   "cell_type": "code",
   "execution_count": 10,
   "metadata": {
    "collapsed": false
   },
   "outputs": [],
   "source": [
    "fold_wise_processor = FoldWiseProcessor(ds, resampled_trajectory, SKLLearnerAdapter(DecisionTreeRegressor()), 10, False)"
   ]
  },
  {
   "cell_type": "code",
   "execution_count": null,
   "metadata": {
    "collapsed": false
   },
   "outputs": [
    {
     "name": "stdout",
     "output_type": "stream",
     "text": [
      "starting to process\n",
      "starting turn :/ 0\n",
      "results contains 0 entries\n",
      "<SampleAttributesCollection: fold_num,important,targets,time_coords,time_indices>"
     ]
    }
   ],
   "source": [
    "import importlib\n",
    "import foldwiseprocessor\n",
    "\n",
    "importlib.reload(foldwiseprocessor)\n",
    "\n",
    "from foldwiseprocessor import FoldWiseProcessor\n",
    "\n",
    "results = fold_wise_processor.process()"
   ]
  },
  {
   "cell_type": "code",
   "execution_count": null,
   "metadata": {
    "collapsed": true
   },
   "outputs": [],
   "source": []
  },
  {
   "cell_type": "code",
   "execution_count": null,
   "metadata": {
    "collapsed": true
   },
   "outputs": [],
   "source": []
  },
  {
   "cell_type": "code",
   "execution_count": null,
   "metadata": {
    "collapsed": true
   },
   "outputs": [],
   "source": []
  },
  {
   "cell_type": "code",
   "execution_count": null,
   "metadata": {
    "collapsed": false
   },
   "outputs": [],
   "source": [
    "print(fold_wise_processor.results)"
   ]
  },
  {
   "cell_type": "code",
   "execution_count": null,
   "metadata": {
    "collapsed": false
   },
   "outputs": [],
   "source": [
    "plt.plot(ds.sa.targets)\n",
    "plt.ylabel('ds Response')\n",
    "plt.show()"
   ]
  },
  {
   "cell_type": "code",
   "execution_count": null,
   "metadata": {
    "collapsed": false
   },
   "outputs": [],
   "source": [
    "plt.plot(fold_wise_processor.results)\n",
    "plt.ylabel('response Response')\n",
    "plt.show()"
   ]
  },
  {
   "cell_type": "code",
   "execution_count": 9,
   "metadata": {
    "collapsed": false
   },
   "outputs": [
    {
     "data": {
      "text/plain": [
       "0.052445685621390473"
      ]
     },
     "execution_count": 9,
     "metadata": {},
     "output_type": "execute_result"
    }
   ],
   "source": [
    "np.corrcoef(fold_wise_processor.results, ds.sa.targets)[0, 1]"
   ]
  },
  {
   "cell_type": "code",
   "execution_count": null,
   "metadata": {
    "collapsed": false
   },
   "outputs": [],
   "source": [
    "array = np.array([1, 2, 3, 4, 9, 10])"
   ]
  },
  {
   "cell_type": "code",
   "execution_count": null,
   "metadata": {
    "collapsed": true
   },
   "outputs": [],
   "source": []
  },
  {
   "cell_type": "code",
   "execution_count": null,
   "metadata": {
    "collapsed": false
   },
   "outputs": [],
   "source": [
    "np.split(array, 2)"
   ]
  },
  {
   "cell_type": "code",
   "execution_count": null,
   "metadata": {
    "collapsed": false
   },
   "outputs": [],
   "source": [
    "def split_list(source_list, wanted_parts=1):\n",
    "    \n",
    "    association_transfrom = []\n",
    "    \n",
    "    for i in range(0, len(source_list)):\n",
    "        association_transfrom.append(i)\n",
    "        \n",
    "    #print(association_transfrom)\n",
    "    \n",
    "    length = len(association_transfrom)\n",
    "    ## // notates integer division\n",
    "    result_transform = [ association_transfrom[i*length // wanted_parts: (i+1)*length // wanted_parts] \n",
    "             for i in range(wanted_parts) ]\n",
    "    \n",
    "    count = 0\n",
    "    \n",
    "    result = []\n",
    "    \n",
    "    for i in range(0, len(result_transform)):\n",
    "        print(result_transform[i])\n",
    "        \n",
    "        for value in result_transform[i]:\n",
    "            result.append(i)\n",
    "            #print(value)\n",
    "            #source_list[value]\n",
    "            \n",
    "    return result"
   ]
  },
  {
   "cell_type": "code",
   "execution_count": null,
   "metadata": {
    "collapsed": false
   },
   "outputs": [],
   "source": [
    "split_list([1, 2, 3, 4, 9, 10, 6], 3)"
   ]
  },
  {
   "cell_type": "code",
   "execution_count": null,
   "metadata": {
    "collapsed": true
   },
   "outputs": [],
   "source": []
  },
  {
   "cell_type": "code",
   "execution_count": null,
   "metadata": {
    "collapsed": false,
    "scrolled": true
   },
   "outputs": [],
   "source": [
    "len(foldwiseprocessor.generate_chunk_transform_for_ds(ds, 7))"
   ]
  },
  {
   "cell_type": "code",
   "execution_count": null,
   "metadata": {
    "collapsed": false
   },
   "outputs": [],
   "source": [
    "len(ds)"
   ]
  },
  {
   "cell_type": "code",
   "execution_count": null,
   "metadata": {
    "collapsed": true
   },
   "outputs": [],
   "source": []
  }
 ],
 "metadata": {
  "kernelspec": {
   "display_name": "Python 3",
   "language": "python",
   "name": "python3"
  },
  "language_info": {
   "codemirror_mode": {
    "name": "ipython",
    "version": 3
   },
   "file_extension": ".py",
   "mimetype": "text/x-python",
   "name": "python",
   "nbconvert_exporter": "python",
   "pygments_lexer": "ipython3",
   "version": "3.5.1"
  }
 },
 "nbformat": 4,
 "nbformat_minor": 0
}
